{
  "nbformat": 4,
  "nbformat_minor": 0,
  "metadata": {
    "colab": {
      "provenance": [],
      "authorship_tag": "ABX9TyMTEfay8zHvRpAk9D/h61Qk",
      "include_colab_link": true
    },
    "kernelspec": {
      "name": "python3",
      "display_name": "Python 3"
    },
    "language_info": {
      "name": "python"
    }
  },
  "cells": [
    {
      "cell_type": "markdown",
      "metadata": {
        "id": "view-in-github",
        "colab_type": "text"
      },
      "source": [
        "<a href=\"https://colab.research.google.com/github/jeraldflowers/Spark-OlimpicData/blob/main/Data_Partitioning.ipynb\" target=\"_parent\"><img src=\"https://colab.research.google.com/assets/colab-badge.svg\" alt=\"Open In Colab\"/></a>"
      ]
    },
    {
      "cell_type": "code",
      "execution_count": null,
      "metadata": {
        "id": "ttmj3WmdqxIM"
      },
      "outputs": [],
      "source": [
        "! sudo apt-get update\n",
        "! sudo mkdir -p /usr/share/man/man1\n",
        "! sudo apt-get install -y openjdk-11-jdk\n",
        "! pip install pyspark"
      ]
    },
    {
      "cell_type": "code",
      "source": [
        "from google.colab import drive\n",
        "drive.mount('/gdrive')"
      ],
      "metadata": {
        "colab": {
          "base_uri": "https://localhost:8080/"
        },
        "id": "AlcbFUWMq-UM",
        "outputId": "b84d9b56-75cd-4415-9383-5bb6745c5e42"
      },
      "execution_count": 2,
      "outputs": [
        {
          "output_type": "stream",
          "name": "stdout",
          "text": [
            "Mounted at /gdrive\n"
          ]
        }
      ]
    },
    {
      "cell_type": "code",
      "source": [
        "%cd '/gdrive/My Drive/curso-apache-spark-platzi/files'"
      ],
      "metadata": {
        "colab": {
          "base_uri": "https://localhost:8080/"
        },
        "id": "1TKYoqVqudtU",
        "outputId": "45279eea-0bf6-4814-8918-45d58d8dfa2a"
      },
      "execution_count": 3,
      "outputs": [
        {
          "output_type": "stream",
          "name": "stdout",
          "text": [
            "/gdrive/My Drive/curso-apache-spark-platzi/files\n"
          ]
        }
      ]
    },
    {
      "cell_type": "code",
      "source": [
        "from pyspark.sql import SparkSession\n",
        "spark = SparkSession.builder.appName(\"Particionado\").master(\"local[5]\").getOrCreate()"
      ],
      "metadata": {
        "id": "SIfwq6Mfupr6"
      },
      "execution_count": 6,
      "outputs": []
    },
    {
      "cell_type": "code",
      "source": [
        "df = spark.range(0, 20)\n",
        "df.rdd.getNumPartitions()"
      ],
      "metadata": {
        "colab": {
          "base_uri": "https://localhost:8080/"
        },
        "id": "PFlZ1dc2uva-",
        "outputId": "bb4b7e09-a9fd-4f07-ed40-b89538e5c97e"
      },
      "execution_count": 7,
      "outputs": [
        {
          "output_type": "execute_result",
          "data": {
            "text/plain": [
              "5"
            ]
          },
          "metadata": {},
          "execution_count": 7
        }
      ]
    },
    {
      "cell_type": "code",
      "source": [
        "rdd1 = spark.sparkContext.parallelize((0,20), 10)\n",
        "rdd1.getNumPartitions()"
      ],
      "metadata": {
        "colab": {
          "base_uri": "https://localhost:8080/"
        },
        "id": "kNfkTxRgu5bf",
        "outputId": "480b00e9-b350-470f-9e9c-8d7296ea2cb9"
      },
      "execution_count": 8,
      "outputs": [
        {
          "output_type": "execute_result",
          "data": {
            "text/plain": [
              "10"
            ]
          },
          "metadata": {},
          "execution_count": 8
        }
      ]
    },
    {
      "cell_type": "code",
      "source": [
        "rdd_archivo = spark.sparkContext.textFile('/gdrive/My Drive/curso-apache-spark-platzi/files/deporte.csv', 10)"
      ],
      "metadata": {
        "id": "qLMsAY-IwDcl"
      },
      "execution_count": 9,
      "outputs": []
    },
    {
      "cell_type": "code",
      "source": [
        "rdd_archivo.getNumPartitions()"
      ],
      "metadata": {
        "colab": {
          "base_uri": "https://localhost:8080/"
        },
        "id": "7Evazqlkwki4",
        "outputId": "033bb662-d5ea-4ac3-e5df-4521e40bc675"
      },
      "execution_count": 10,
      "outputs": [
        {
          "output_type": "execute_result",
          "data": {
            "text/plain": [
              "10"
            ]
          },
          "metadata": {},
          "execution_count": 10
        }
      ]
    },
    {
      "cell_type": "code",
      "source": [
        "%cd '/gdrive/My Drive/curso-apache-spark-platzi'"
      ],
      "metadata": {
        "colab": {
          "base_uri": "https://localhost:8080/"
        },
        "id": "qkn4gU16w9Xg",
        "outputId": "5334e11f-3973-4b74-bc27-3404cfc225c0"
      },
      "execution_count": 11,
      "outputs": [
        {
          "output_type": "stream",
          "name": "stdout",
          "text": [
            "/gdrive/My Drive/curso-apache-spark-platzi\n"
          ]
        }
      ]
    },
    {
      "cell_type": "code",
      "source": [
        "!mkdir '/gdrive/My Drive/curso-apache-spark-platzi/partes'"
      ],
      "metadata": {
        "id": "9fuv61MMw_Bl"
      },
      "execution_count": 12,
      "outputs": []
    },
    {
      "cell_type": "code",
      "source": [
        "!ls '/gdrive/My Drive/curso-apache-spark-platzi'"
      ],
      "metadata": {
        "colab": {
          "base_uri": "https://localhost:8080/"
        },
        "id": "I180HfnyxHF3",
        "outputId": "6790f58b-e697-4a71-efee-367178e6c84c"
      },
      "execution_count": 14,
      "outputs": [
        {
          "output_type": "stream",
          "name": "stdout",
          "text": [
            "'1. Jupyter vs CLI.ipynb'\t\t\t    configuracion\n",
            "'2. Primer RDD.ipynb'\t\t\t\t    data.csv\n",
            "'3. Transformaciones y Acciones sobre RDDs.ipynb'   files\n",
            "'4. DF y replicacion.ipynb'\t\t\t    partes\n",
            "'5. Particionado.ipynb'\t\t\t\t    README.md\n",
            " codeExample.py\n"
          ]
        }
      ]
    },
    {
      "cell_type": "code",
      "source": [
        "rdd_archivo.saveAsTextFile('/gdrive/My Drive/curso-apache-spark-platzi/partes/salida-texto')"
      ],
      "metadata": {
        "id": "veafTh6bxYPr"
      },
      "execution_count": 16,
      "outputs": []
    },
    {
      "cell_type": "code",
      "source": [
        "!ls '/gdrive/My Drive/curso-apache-spark-platzi/partes/salida-texto'"
      ],
      "metadata": {
        "colab": {
          "base_uri": "https://localhost:8080/"
        },
        "id": "JXtMMJwPx0KB",
        "outputId": "52b314aa-e019-456b-f2d0-d0ff1068bc1e"
      },
      "execution_count": 17,
      "outputs": [
        {
          "output_type": "stream",
          "name": "stdout",
          "text": [
            "part-00000  part-00002\tpart-00004  part-00006\tpart-00008  _SUCCESS\n",
            "part-00001  part-00003\tpart-00005  part-00007\tpart-00009\n"
          ]
        }
      ]
    },
    {
      "cell_type": "code",
      "source": [
        "!head -n 5 '/gdrive/My Drive/curso-apache-spark-platzi/partes/salida-texto/part-00000'"
      ],
      "metadata": {
        "colab": {
          "base_uri": "https://localhost:8080/"
        },
        "id": "JvHssJODx6l5",
        "outputId": "a9b1ad06-ee08-40c5-ba0b-38ef25aa5fda"
      },
      "execution_count": 19,
      "outputs": [
        {
          "output_type": "stream",
          "name": "stdout",
          "text": [
            "deporte_id,deporte\n",
            "1,Basketball\n",
            "2,Judo\n",
            "3,Football\n",
            "4,Tug-Of-War\n"
          ]
        }
      ]
    },
    {
      "cell_type": "code",
      "source": [
        "rdd = spark.sparkContext.wholeTextFiles('/gdrive/My Drive/curso-apache-spark-platzi/partes/salida-texto/*')"
      ],
      "metadata": {
        "id": "RkeyohZSygXc"
      },
      "execution_count": 20,
      "outputs": []
    },
    {
      "cell_type": "code",
      "source": [
        "lista = rdd.mapValues(lambda x: x.split()).collect()"
      ],
      "metadata": {
        "id": "qu29BbqmzJgo"
      },
      "execution_count": 21,
      "outputs": []
    },
    {
      "cell_type": "code",
      "source": [
        "lista = [l[0] for l in lista]\n",
        "lista.sort()"
      ],
      "metadata": {
        "id": "_j7bis6Ozv9C"
      },
      "execution_count": 22,
      "outputs": []
    },
    {
      "cell_type": "code",
      "source": [
        "rdd2 = spark.sparkContext.textFile(\",\".join(lista), 10).map(lambda l: l.split(\",\"))"
      ],
      "metadata": {
        "id": "4-gO0__90Nv3"
      },
      "execution_count": 23,
      "outputs": []
    },
    {
      "cell_type": "code",
      "source": [
        "rdd2.take(6)"
      ],
      "metadata": {
        "colab": {
          "base_uri": "https://localhost:8080/"
        },
        "id": "g0NwoQqL00zq",
        "outputId": "41c0067e-b93c-4be9-e809-5361265fec90"
      },
      "execution_count": 24,
      "outputs": [
        {
          "output_type": "execute_result",
          "data": {
            "text/plain": [
              "[['deporte_id', 'deporte'],\n",
              " ['1', 'Basketball'],\n",
              " ['2', 'Judo'],\n",
              " ['3', 'Football'],\n",
              " ['4', 'Tug-Of-War'],\n",
              " ['5', 'Speed Skating']]"
            ]
          },
          "metadata": {},
          "execution_count": 24
        }
      ]
    }
  ]
}