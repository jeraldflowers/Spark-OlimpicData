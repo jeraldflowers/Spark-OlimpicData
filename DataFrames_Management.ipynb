{
  "nbformat": 4,
  "nbformat_minor": 0,
  "metadata": {
    "colab": {
      "provenance": [],
      "authorship_tag": "ABX9TyOI2UC5WB9o4bDwboinEr9G",
      "include_colab_link": true
    },
    "kernelspec": {
      "name": "python3",
      "display_name": "Python 3"
    },
    "language_info": {
      "name": "python"
    }
  },
  "cells": [
    {
      "cell_type": "markdown",
      "metadata": {
        "id": "view-in-github",
        "colab_type": "text"
      },
      "source": [
        "<a href=\"https://colab.research.google.com/github/jeraldflowers/Spark-OlimpicData/blob/main/DataFrames_Management.ipynb\" target=\"_parent\"><img src=\"https://colab.research.google.com/assets/colab-badge.svg\" alt=\"Open In Colab\"/></a>"
      ]
    },
    {
      "cell_type": "code",
      "execution_count": null,
      "metadata": {
        "id": "dqTfJfgjVpug"
      },
      "outputs": [],
      "source": [
        "! sudo apt-get update\n",
        "! sudo mkdir -p /usr/share/man/man1\n",
        "! sudo apt-get install -y openjdk-11-jdk\n",
        "! pip install pyspark"
      ]
    },
    {
      "cell_type": "markdown",
      "source": [
        "# DataFrames Management"
      ],
      "metadata": {
        "id": "-TrU6DEhWQVT"
      }
    },
    {
      "cell_type": "code",
      "source": [
        "from pyspark import SparkContext\n",
        "from pyspark.sql import SparkSession\n",
        "\n",
        "from pyspark.sql.types import StructField, IntegerType, StringType, FloatType\n",
        "from pyspark.sql.types import Row, StructType\n",
        "from pyspark.sql import SQLContext"
      ],
      "metadata": {
        "id": "nzvfYYnsVtFA"
      },
      "execution_count": 2,
      "outputs": []
    },
    {
      "cell_type": "code",
      "source": [
        "spark = SparkContext(master=\"local\", appName=\"DataFrames\")\n",
        "sqlContext = SQLContext(spark)"
      ],
      "metadata": {
        "colab": {
          "base_uri": "https://localhost:8080/"
        },
        "id": "2hQeR_alWU13",
        "outputId": "b3a84a84-c1d9-4a51-fd29-6777c934b67a"
      },
      "execution_count": 3,
      "outputs": [
        {
          "output_type": "stream",
          "name": "stderr",
          "text": [
            "/usr/local/lib/python3.7/dist-packages/pyspark/sql/context.py:114: FutureWarning: Deprecated in 3.0.0. Use SparkSession.builder.getOrCreate() instead.\n",
            "  FutureWarning,\n"
          ]
        }
      ]
    },
    {
      "cell_type": "code",
      "source": [
        "from google.colab import drive\n",
        "drive.mount('/gdrive')"
      ],
      "metadata": {
        "colab": {
          "base_uri": "https://localhost:8080/"
        },
        "id": "XV6FFQADWYNk",
        "outputId": "8e58e9de-bf81-4bd6-ad90-bff5a8d2089e"
      },
      "execution_count": 4,
      "outputs": [
        {
          "output_type": "stream",
          "name": "stdout",
          "text": [
            "Mounted at /gdrive\n"
          ]
        }
      ]
    },
    {
      "cell_type": "code",
      "source": [
        "%cd '/gdrive/My Drive'"
      ],
      "metadata": {
        "colab": {
          "base_uri": "https://localhost:8080/"
        },
        "id": "8dDxIG90W1fm",
        "outputId": "f8816d70-753c-491e-d81d-e0d4fa35281d"
      },
      "execution_count": 5,
      "outputs": [
        {
          "output_type": "stream",
          "name": "stdout",
          "text": [
            "/gdrive/My Drive\n"
          ]
        }
      ]
    },
    {
      "cell_type": "code",
      "source": [
        "!ls"
      ],
      "metadata": {
        "colab": {
          "base_uri": "https://localhost:8080/"
        },
        "id": "Am-tKrBTW-xa",
        "outputId": "4793396a-14ea-4817-a0bb-cc8b31e04e50"
      },
      "execution_count": 6,
      "outputs": [
        {
          "output_type": "stream",
          "name": "stdout",
          "text": [
            "'200.60.47.73 ReportePagos ReportePagos Inicio.pdf'\n",
            " Classroom\n",
            "'Colab Notebooks'\n",
            "'CURRICULUM_VITAE_JERALD[1].docx'\n",
            " curso-apache-spark-platzi\n",
            " dl-pytorch\n",
            "'Documento sin título (1).gdoc'\n",
            "'Documento sin título.gdoc'\n",
            "'fuente-de-datos-platzi_6a20a26e-6a1d-4b4d-8fe9-d61f9689cc6e (1).xlsx'\n",
            " fuente-de-datos-platzi.gsheet\n",
            " INGRESOS_PASIVOS_EL_SECRETO_DE_LOS_MILONARIOS_.pdf\n",
            "'Mas de 1000 libros de Educacion financiera - Google Drive'\n",
            "'Mas de 1000 libros de Educacion financiera - Google Drive.gdoc'\n",
            " PyTorch-CycleGAN\n",
            "'TEORIA ACTUALIZ. PROC.I-100 (2).docx'\n"
          ]
        }
      ]
    },
    {
      "cell_type": "code",
      "source": [
        "%cd '/gdrive/My Drive/curso-apache-spark-platzi/files'"
      ],
      "metadata": {
        "colab": {
          "base_uri": "https://localhost:8080/"
        },
        "id": "N5RgMioVXCuv",
        "outputId": "6a435e1c-9b39-440b-dd49-514cf1192abe"
      },
      "execution_count": 7,
      "outputs": [
        {
          "output_type": "stream",
          "name": "stdout",
          "text": [
            "/gdrive/My Drive/curso-apache-spark-platzi/files\n"
          ]
        }
      ]
    },
    {
      "cell_type": "code",
      "source": [
        "!head -n 5 '/gdrive/My Drive/curso-apache-spark-platzi/files/juegos.csv'"
      ],
      "metadata": {
        "colab": {
          "base_uri": "https://localhost:8080/"
        },
        "id": "W_Td9YACXgOo",
        "outputId": "74c564ef-742f-4737-839c-b4feacbe50f6"
      },
      "execution_count": 8,
      "outputs": [
        {
          "output_type": "stream",
          "name": "stdout",
          "text": [
            ",nombre_juego,annio,temporada,ciudad\n",
            "1,1896 Verano,1896,Verano,Athina\n",
            "2,1900 Verano,1900,Verano,Paris\n",
            "3,1904 Verano,1904,Verano,St. Louis\n",
            "4,1906 Verano,1906,Verano,Athina\n"
          ]
        }
      ]
    },
    {
      "cell_type": "code",
      "source": [
        "path = '/gdrive/My Drive/curso-apache-spark-platzi/files/'"
      ],
      "metadata": {
        "id": "n62G3XbxXH8Q"
      },
      "execution_count": 9,
      "outputs": []
    },
    {
      "cell_type": "code",
      "source": [
        "juegoSchema = StructType([\n",
        "    StructField(\"juego_id\", IntegerType(), False),\n",
        "    StructField(\"anio\", StringType(), False),\n",
        "    StructField(\"temporada\", StringType(), False),\n",
        "    StructField(\"cuidad\", StringType(), False)\n",
        "])\n",
        "\n",
        "juegoDF = sqlContext.read.schema(juegoSchema).option(\"header\", \"true\").csv(path + \"juegos.csv\" )"
      ],
      "metadata": {
        "id": "KbztvANxXPao"
      },
      "execution_count": 10,
      "outputs": []
    },
    {
      "cell_type": "code",
      "source": [
        "juegoDF.show(4)"
      ],
      "metadata": {
        "colab": {
          "base_uri": "https://localhost:8080/"
        },
        "id": "4e3k18XbaXM8",
        "outputId": "3f1b6f1b-b42c-4842-e74e-b189e28c77c5"
      },
      "execution_count": 11,
      "outputs": [
        {
          "output_type": "stream",
          "name": "stdout",
          "text": [
            "+--------+-----------+---------+------+\n",
            "|juego_id|       anio|temporada|cuidad|\n",
            "+--------+-----------+---------+------+\n",
            "|       1|1896 Verano|     1896|Verano|\n",
            "|       2|1900 Verano|     1900|Verano|\n",
            "|       3|1904 Verano|     1904|Verano|\n",
            "|       4|1906 Verano|     1906|Verano|\n",
            "+--------+-----------+---------+------+\n",
            "only showing top 4 rows\n",
            "\n"
          ]
        }
      ]
    },
    {
      "cell_type": "code",
      "source": [
        "deporteRDD = spark.textFile(path + \"deporte.csv\").map(lambda l: l.split(\",\"))\n",
        "deporteRDD.take(5)"
      ],
      "metadata": {
        "colab": {
          "base_uri": "https://localhost:8080/"
        },
        "id": "5UNTzmF7udfH",
        "outputId": "cccc37a3-bf53-4608-df48-a295dabf5d92"
      },
      "execution_count": 12,
      "outputs": [
        {
          "output_type": "execute_result",
          "data": {
            "text/plain": [
              "[['deporte_id', 'deporte'],\n",
              " ['1', 'Basketball'],\n",
              " ['2', 'Judo'],\n",
              " ['3', 'Football'],\n",
              " ['4', 'Tug-Of-War']]"
            ]
          },
          "metadata": {},
          "execution_count": 12
        }
      ]
    },
    {
      "cell_type": "code",
      "source": [
        "deporte_schema = StructType([\n",
        "    StructField(\"deporte_id\", IntegerType(), False),\n",
        "    StructField(\"deporte\", StringType(), False)\n",
        "])"
      ],
      "metadata": {
        "id": "1R38zHbiuse5"
      },
      "execution_count": 13,
      "outputs": []
    },
    {
      "cell_type": "code",
      "source": [
        "deporteDF = sqlContext.read.schema(deporte_schema).option(\"header\", \"true\").csv(path + \"deporte.csv\" )\n",
        "deporteDF.show(5)"
      ],
      "metadata": {
        "colab": {
          "base_uri": "https://localhost:8080/"
        },
        "id": "NGBeupRnvFxd",
        "outputId": "ec3e3d43-e766-46b1-c84b-befed052516b"
      },
      "execution_count": 14,
      "outputs": [
        {
          "output_type": "stream",
          "name": "stdout",
          "text": [
            "+----------+-------------+\n",
            "|deporte_id|      deporte|\n",
            "+----------+-------------+\n",
            "|         1|   Basketball|\n",
            "|         2|         Judo|\n",
            "|         3|     Football|\n",
            "|         4|   Tug-Of-War|\n",
            "|         5|Speed Skating|\n",
            "+----------+-------------+\n",
            "only showing top 5 rows\n",
            "\n"
          ]
        }
      ]
    },
    {
      "cell_type": "code",
      "source": [
        "deportistaOlimpicoRDD = spark.textFile(path + \"deportista.csv\").map(lambda l: l.split(\",\"))\n",
        "deportistaOlimpicoRDD2 = spark.textFile(path + \"deportista2.csv\").map(lambda l: l.split(\",\"))\n",
        "\n",
        "deportistaOlimpicoRDD =  deportistaOlimpicoRDD.union(deportistaOlimpicoRDD2)"
      ],
      "metadata": {
        "id": "ngDI3NfAabrT"
      },
      "execution_count": 15,
      "outputs": []
    },
    {
      "cell_type": "code",
      "source": [
        "deportistaOlimpicoRDD.take(5)"
      ],
      "metadata": {
        "colab": {
          "base_uri": "https://localhost:8080/"
        },
        "id": "rVoQ1KNRekEa",
        "outputId": "467de227-b62f-4008-9d07-b19b391fdd93"
      },
      "execution_count": 16,
      "outputs": [
        {
          "output_type": "execute_result",
          "data": {
            "text/plain": [
              "[['deportista_id', 'nombre', 'genero', 'edad', 'altura', 'peso', 'equipo_id'],\n",
              " ['1', 'A Dijiang', '1', '24', '180', '80', '199'],\n",
              " ['2', 'A Lamusi', '1', '23', '170', '60', '199'],\n",
              " ['3', 'Gunnar Nielsen Aaby', '1', '24', '0', '0', '273'],\n",
              " ['4', 'Edgar Lindenau Aabye', '1', '34', '0', '0', '278']]"
            ]
          },
          "metadata": {},
          "execution_count": 16
        }
      ]
    },
    {
      "cell_type": "code",
      "source": [
        "def removeHeader(index, iterator):\n",
        "  return iter(list(iterator)[1:])"
      ],
      "metadata": {
        "id": "ubSweRZAekxg"
      },
      "execution_count": 17,
      "outputs": []
    },
    {
      "cell_type": "code",
      "source": [
        "deportistaOlimpicoRDD = deportistaOlimpicoRDD.mapPartitionsWithIndex(removeHeader)"
      ],
      "metadata": {
        "id": "Vl22qGglfcFu"
      },
      "execution_count": 18,
      "outputs": []
    },
    {
      "cell_type": "code",
      "source": [
        "deportistaOlimpicoRDD.take(5)"
      ],
      "metadata": {
        "colab": {
          "base_uri": "https://localhost:8080/"
        },
        "id": "Ep91Z6cpfnQm",
        "outputId": "a7b04f40-8e35-4cac-f3ab-7c00f10c710f"
      },
      "execution_count": 19,
      "outputs": [
        {
          "output_type": "execute_result",
          "data": {
            "text/plain": [
              "[['1', 'A Dijiang', '1', '24', '180', '80', '199'],\n",
              " ['2', 'A Lamusi', '1', '23', '170', '60', '199'],\n",
              " ['3', 'Gunnar Nielsen Aaby', '1', '24', '0', '0', '273'],\n",
              " ['4', 'Edgar Lindenau Aabye', '1', '34', '0', '0', '278'],\n",
              " ['5', 'Christine Jacoba Aaftink', '2', '21', '185', '82', '705']]"
            ]
          },
          "metadata": {},
          "execution_count": 19
        }
      ]
    },
    {
      "cell_type": "code",
      "source": [
        "deportistaOlimpicoRDD = deportistaOlimpicoRDD.map(lambda l: (\n",
        "    int(l[0]),\n",
        "    l[1],\n",
        "    int(l[2]),\n",
        "    int(l[3]),\n",
        "    int(l[4]),\n",
        "    float(l[5]),\n",
        "    int(l[6])\n",
        "))"
      ],
      "metadata": {
        "id": "wIGpt50Uf2U9"
      },
      "execution_count": 20,
      "outputs": []
    },
    {
      "cell_type": "code",
      "source": [
        "schema = StructType([\n",
        "    StructField(\"deportista_id\", IntegerType(), False),\n",
        "    StructField(\"nombre\", StringType(), False),\n",
        "    StructField(\"genero\", IntegerType(), False),\n",
        "    StructField(\"edad\", IntegerType(), False),\n",
        "    StructField(\"altura\", IntegerType(), False),\n",
        "    StructField(\"peso\", FloatType(), False),\n",
        "    StructField(\"equipo_id\", IntegerType(), False)\n",
        "])"
      ],
      "metadata": {
        "id": "MHoAM83Lgfpw"
      },
      "execution_count": 21,
      "outputs": []
    },
    {
      "cell_type": "code",
      "source": [
        "deportistaDF = sqlContext.createDataFrame(deportistaOlimpicoRDD, schema)\n",
        "deportistaDF.show(5)"
      ],
      "metadata": {
        "colab": {
          "base_uri": "https://localhost:8080/"
        },
        "id": "6rWoqF_Jhdef",
        "outputId": "6ce6b304-c09b-451d-abee-f8b3227eb962"
      },
      "execution_count": 22,
      "outputs": [
        {
          "output_type": "stream",
          "name": "stdout",
          "text": [
            "+-------------+--------------------+------+----+------+----+---------+\n",
            "|deportista_id|              nombre|genero|edad|altura|peso|equipo_id|\n",
            "+-------------+--------------------+------+----+------+----+---------+\n",
            "|            1|           A Dijiang|     1|  24|   180|80.0|      199|\n",
            "|            2|            A Lamusi|     1|  23|   170|60.0|      199|\n",
            "|            3| Gunnar Nielsen Aaby|     1|  24|     0| 0.0|      273|\n",
            "|            4|Edgar Lindenau Aabye|     1|  34|     0| 0.0|      278|\n",
            "|            5|Christine Jacoba ...|     2|  21|   185|82.0|      705|\n",
            "+-------------+--------------------+------+----+------+----+---------+\n",
            "only showing top 5 rows\n",
            "\n"
          ]
        }
      ]
    },
    {
      "cell_type": "code",
      "source": [
        "evento_schema = StructType([\n",
        "    StructField(\"evento_id\", IntegerType(), False),\n",
        "    StructField(\"evento\", StringType(), False), \n",
        "    StructField(\"deporte_id\", IntegerType(), False)\n",
        "])"
      ],
      "metadata": {
        "id": "nFmrqLBekyM0"
      },
      "execution_count": 23,
      "outputs": []
    },
    {
      "cell_type": "code",
      "source": [
        "eventoDF = sqlContext.read.schema(evento_schema).option(\"header\", \"true\").csv(path + \"evento.csv\" )"
      ],
      "metadata": {
        "id": "fhUgwcNJlQPe"
      },
      "execution_count": 24,
      "outputs": []
    },
    {
      "cell_type": "code",
      "source": [
        "eventoDF.show(5)"
      ],
      "metadata": {
        "colab": {
          "base_uri": "https://localhost:8080/"
        },
        "id": "2pW9SLx7lYN-",
        "outputId": "688b7484-f14b-4efd-d609-2c795bbc492e"
      },
      "execution_count": 25,
      "outputs": [
        {
          "output_type": "stream",
          "name": "stdout",
          "text": [
            "+---------+--------------------+----------+\n",
            "|evento_id|              evento|deporte_id|\n",
            "+---------+--------------------+----------+\n",
            "|        1|Basketball Men's ...|         1|\n",
            "|        2|Judo Men's Extra-...|         2|\n",
            "|        3|Football Men's Fo...|         3|\n",
            "|        4|Tug-Of-War Men's ...|         4|\n",
            "|        5|Speed Skating Wom...|         5|\n",
            "+---------+--------------------+----------+\n",
            "only showing top 5 rows\n",
            "\n"
          ]
        }
      ]
    },
    {
      "cell_type": "code",
      "source": [
        "paises_schema = StructType([\n",
        "    StructField(\"paises_id\", IntegerType(), False),\n",
        "    StructField(\"equipo\", StringType(), False), \n",
        "    StructField(\"sigla\", StringType(), False)\n",
        "])"
      ],
      "metadata": {
        "id": "jshPCRMqmJwz"
      },
      "execution_count": 26,
      "outputs": []
    },
    {
      "cell_type": "code",
      "source": [
        "paisesDF = sqlContext.read.schema(paises_schema).option(\"header\", \"true\").csv(path + \"paises.csv\" )\n",
        "paisesDF.show(5)"
      ],
      "metadata": {
        "colab": {
          "base_uri": "https://localhost:8080/"
        },
        "id": "XEFDTqHYnz5D",
        "outputId": "6eef1a4d-0b9c-41f4-fd95-9381fbb25d1e"
      },
      "execution_count": 27,
      "outputs": [
        {
          "output_type": "stream",
          "name": "stdout",
          "text": [
            "+---------+--------------------+-----+\n",
            "|paises_id|              equipo|sigla|\n",
            "+---------+--------------------+-----+\n",
            "|        1|         30. Februar|  AUT|\n",
            "|        2|A North American ...|  MEX|\n",
            "|        3|           Acipactli|  MEX|\n",
            "|        4|             Acturus|  ARG|\n",
            "|        5|         Afghanistan|  AFG|\n",
            "+---------+--------------------+-----+\n",
            "only showing top 5 rows\n",
            "\n"
          ]
        }
      ]
    },
    {
      "cell_type": "code",
      "source": [
        "resultados_schema = StructType([\n",
        "    StructField(\"resultado_id\", IntegerType(), False),\n",
        "    StructField(\"medalla\", StringType(), False),\n",
        "    StructField(\"deportista_id\", IntegerType(), False),\n",
        "    StructField(\"juego_id\", IntegerType(), False),\n",
        "    StructField(\"evento_id\", IntegerType(), False)\n",
        "])"
      ],
      "metadata": {
        "id": "5H-a3MgxoBq3"
      },
      "execution_count": 28,
      "outputs": []
    },
    {
      "cell_type": "code",
      "source": [
        "resultadosDF = sqlContext.read.schema(resultados_schema).option(\"header\", \"true\").csv(path + \"resultados.csv\" )\n",
        "resultadosDF.show(5)"
      ],
      "metadata": {
        "colab": {
          "base_uri": "https://localhost:8080/"
        },
        "id": "F6KznPJyoJoz",
        "outputId": "ab75da57-6e88-486e-ae25-46064ebdc4ad"
      },
      "execution_count": 29,
      "outputs": [
        {
          "output_type": "stream",
          "name": "stdout",
          "text": [
            "+------------+-------+-------------+--------+---------+\n",
            "|resultado_id|medalla|deportista_id|juego_id|evento_id|\n",
            "+------------+-------+-------------+--------+---------+\n",
            "|           1|     NA|            1|      39|        1|\n",
            "|           2|     NA|            2|      49|        2|\n",
            "|           3|     NA|            3|       7|        3|\n",
            "|           4|   Gold|            4|       2|        4|\n",
            "|           5|     NA|            5|      36|        5|\n",
            "+------------+-------+-------------+--------+---------+\n",
            "only showing top 5 rows\n",
            "\n"
          ]
        }
      ]
    },
    {
      "cell_type": "code",
      "source": [],
      "metadata": {
        "id": "PY0VoOIfuLsf"
      },
      "execution_count": 29,
      "outputs": []
    },
    {
      "cell_type": "code",
      "source": [
        "deportistaDF = deportistaDF.withColumnRenamed(\"genero\", \"sexo\").drop(\"altura\")\n",
        "deportistaDF.printSchema()"
      ],
      "metadata": {
        "colab": {
          "base_uri": "https://localhost:8080/"
        },
        "id": "CTeEl4UQoS5_",
        "outputId": "2781eb2f-7e75-4f3c-f5e4-7d8074e43d8d"
      },
      "execution_count": 30,
      "outputs": [
        {
          "output_type": "stream",
          "name": "stdout",
          "text": [
            "root\n",
            " |-- deportista_id: integer (nullable = false)\n",
            " |-- nombre: string (nullable = false)\n",
            " |-- sexo: integer (nullable = false)\n",
            " |-- edad: integer (nullable = false)\n",
            " |-- peso: float (nullable = false)\n",
            " |-- equipo_id: integer (nullable = false)\n",
            "\n"
          ]
        }
      ]
    },
    {
      "cell_type": "code",
      "source": [
        "from pyspark.sql.functions import *\n",
        "\n",
        "deportistaDF = deportistaDF.select(\"deportista_id\", \"nombre\",\n",
        "                    col(\"edad\").alias(\"edadAlJugar\"), \"equipo_id\")\n",
        "\n",
        "deportistaDF.show(5)"
      ],
      "metadata": {
        "colab": {
          "base_uri": "https://localhost:8080/"
        },
        "id": "3wQ1KrXUpola",
        "outputId": "46c32e2e-a967-4d11-a7bf-92ff39700a97"
      },
      "execution_count": 31,
      "outputs": [
        {
          "output_type": "stream",
          "name": "stdout",
          "text": [
            "+-------------+--------------------+-----------+---------+\n",
            "|deportista_id|              nombre|edadAlJugar|equipo_id|\n",
            "+-------------+--------------------+-----------+---------+\n",
            "|            1|           A Dijiang|         24|      199|\n",
            "|            2|            A Lamusi|         23|      199|\n",
            "|            3| Gunnar Nielsen Aaby|         24|      273|\n",
            "|            4|Edgar Lindenau Aabye|         34|      278|\n",
            "|            5|Christine Jacoba ...|         21|      705|\n",
            "+-------------+--------------------+-----------+---------+\n",
            "only showing top 5 rows\n",
            "\n"
          ]
        }
      ]
    },
    {
      "cell_type": "code",
      "source": [
        "deportistaDF = deportistaDF.filter((deportistaDF.edadAlJugar != 0))"
      ],
      "metadata": {
        "id": "xMJhYuqYqsFd"
      },
      "execution_count": 32,
      "outputs": []
    },
    {
      "cell_type": "code",
      "source": [
        "deportistaDF.sort(\"edadAlJugar\").show()"
      ],
      "metadata": {
        "colab": {
          "base_uri": "https://localhost:8080/"
        },
        "id": "vfEfN3q8sHkX",
        "outputId": "a5b2245d-fc50-490a-8bd1-b372dc64aebf"
      },
      "execution_count": 33,
      "outputs": [
        {
          "output_type": "stream",
          "name": "stdout",
          "text": [
            "+-------------+--------------------+-----------+---------+\n",
            "|deportista_id|              nombre|edadAlJugar|equipo_id|\n",
            "+-------------+--------------------+-----------+---------+\n",
            "|        71691|  Dimitrios Loundras|         10|      333|\n",
            "|        70616|          Liu Luyang|         11|      199|\n",
            "|       118925|Megan Olwen Deven...|         11|      413|\n",
            "|        52070|        Etsuko Inada|         11|      514|\n",
            "|        22411|Magdalena Cecilia...|         11|      413|\n",
            "|        40129|    Luigina Giavotti|         11|      507|\n",
            "|        47618|Sonja Henie Toppi...|         11|      742|\n",
            "|        76675|   Marcelle Matthews|         11|      967|\n",
            "|        37333|Carlos Bienvenido...|         11|      982|\n",
            "|        51268|      Beatrice Hutiu|         11|      861|\n",
            "|       126307|        Liana Vicens|         11|      825|\n",
            "|        48939|             Ho Gang|         12|      738|\n",
            "|        49142|        Jan Hoffmann|         12|      302|\n",
            "|        42835|   Werner Grieshofer|         12|       71|\n",
            "|        54620|Belita Gladys Lyn...|         12|      413|\n",
            "|        31203|Patricia Anne Pat...|         12|      967|\n",
            "|        43528|Antoinette Joyce ...|         12|      172|\n",
            "|        46578|        Diana Hatler|         12|      825|\n",
            "|        59727|Marika Kilius Zah...|         12|      399|\n",
            "|        40296|    Alain C. Giletti|         12|      362|\n",
            "+-------------+--------------------+-----------+---------+\n",
            "only showing top 20 rows\n",
            "\n"
          ]
        }
      ]
    },
    {
      "cell_type": "code",
      "source": [
        "deportistaDF.printSchema()"
      ],
      "metadata": {
        "colab": {
          "base_uri": "https://localhost:8080/"
        },
        "id": "WoUDuKuisOsK",
        "outputId": "b78bae5a-1b0e-4d25-a3e7-417a2b5c3dae"
      },
      "execution_count": 34,
      "outputs": [
        {
          "output_type": "stream",
          "name": "stdout",
          "text": [
            "root\n",
            " |-- deportista_id: integer (nullable = false)\n",
            " |-- nombre: string (nullable = false)\n",
            " |-- edadAlJugar: integer (nullable = false)\n",
            " |-- equipo_id: integer (nullable = false)\n",
            "\n"
          ]
        }
      ]
    },
    {
      "cell_type": "code",
      "source": [
        "resultadosDF.printSchema()"
      ],
      "metadata": {
        "colab": {
          "base_uri": "https://localhost:8080/"
        },
        "id": "YuSK78sntbxt",
        "outputId": "9f0a3043-487e-4da5-e3b1-615078290a49"
      },
      "execution_count": 35,
      "outputs": [
        {
          "output_type": "stream",
          "name": "stdout",
          "text": [
            "root\n",
            " |-- resultado_id: integer (nullable = true)\n",
            " |-- medalla: string (nullable = true)\n",
            " |-- deportista_id: integer (nullable = true)\n",
            " |-- juego_id: integer (nullable = true)\n",
            " |-- evento_id: integer (nullable = true)\n",
            "\n"
          ]
        }
      ]
    },
    {
      "cell_type": "code",
      "source": [
        "juegoDF.printSchema()"
      ],
      "metadata": {
        "colab": {
          "base_uri": "https://localhost:8080/"
        },
        "id": "A-t4-0DttpdX",
        "outputId": "3a0c700e-5995-4d47-8ada-9c0e6a82f41c"
      },
      "execution_count": 36,
      "outputs": [
        {
          "output_type": "stream",
          "name": "stdout",
          "text": [
            "root\n",
            " |-- juego_id: integer (nullable = true)\n",
            " |-- anio: string (nullable = true)\n",
            " |-- temporada: string (nullable = true)\n",
            " |-- cuidad: string (nullable = true)\n",
            "\n"
          ]
        }
      ]
    },
    {
      "cell_type": "code",
      "source": [
        "deporte_olimpicoDF = eventoDF.withColumnRenamed(\"evento\", \"nombre\")"
      ],
      "metadata": {
        "id": "mwGV9qBXttFm"
      },
      "execution_count": 37,
      "outputs": []
    },
    {
      "cell_type": "code",
      "source": [
        "deporte_olimpicoDF.printSchema()"
      ],
      "metadata": {
        "colab": {
          "base_uri": "https://localhost:8080/"
        },
        "id": "SC8OcooF3ZoI",
        "outputId": "d2cdad03-669f-4820-eb64-15f8fee434b5"
      },
      "execution_count": 38,
      "outputs": [
        {
          "output_type": "stream",
          "name": "stdout",
          "text": [
            "root\n",
            " |-- evento_id: integer (nullable = true)\n",
            " |-- nombre: string (nullable = true)\n",
            " |-- deporte_id: integer (nullable = true)\n",
            "\n"
          ]
        }
      ]
    },
    {
      "cell_type": "code",
      "source": [
        "deportistaDF.join(resultadosDF, deportistaDF.deportista_id == resultadosDF.deportista_id, \"left\")\\\n",
        "            .join(juegoDF, juegoDF.juego_id == resultadosDF.juego_id, \"left\")\\\n",
        "            .join(deporte_olimpicoDF, deporte_olimpicoDF.evento_id == resultadosDF.evento_id, \"left\")\\\n",
        "            .select(deportistaDF.nombre, col(\"edadAlJugar\").alias(\"Edad del jugador\"),\n",
        "                    \"medalla\", col(\"anio\").alias(\"Año de juego\"),\n",
        "                    deporte_olimpicoDF.nombre.alias(\"Nombre de disciplina\")).show()"
      ],
      "metadata": {
        "colab": {
          "base_uri": "https://localhost:8080/"
        },
        "id": "L5dGtfPH4ImM",
        "outputId": "878da863-e207-4fa4-88a9-cc791ec1c41a"
      },
      "execution_count": 39,
      "outputs": [
        {
          "output_type": "stream",
          "name": "stdout",
          "text": [
            "+--------------------+----------------+-------+-------------+--------------------+\n",
            "|              nombre|Edad del jugador|medalla| Año de juego|Nombre de disciplina|\n",
            "+--------------------+----------------+-------+-------------+--------------------+\n",
            "|           A Dijiang|              24|     NA|  1992 Verano|Basketball Men's ...|\n",
            "|            A Lamusi|              23|     NA|  2012 Verano|Judo Men's Extra-...|\n",
            "| Gunnar Nielsen Aaby|              24|     NA|  1920 Verano|Football Men's Fo...|\n",
            "|Edgar Lindenau Aabye|              34|   Gold|  1900 Verano|Tug-Of-War Men's ...|\n",
            "|Christine Jacoba ...|              21|     NA|1994 Invierno|Speed Skating Wom...|\n",
            "|Christine Jacoba ...|              21|     NA|1994 Invierno|Speed Skating Wom...|\n",
            "|Christine Jacoba ...|              21|     NA|1992 Invierno|Speed Skating Wom...|\n",
            "|Christine Jacoba ...|              21|     NA|1992 Invierno|Speed Skating Wom...|\n",
            "|Christine Jacoba ...|              21|     NA|1988 Invierno|Speed Skating Wom...|\n",
            "|Christine Jacoba ...|              21|     NA|1988 Invierno|Speed Skating Wom...|\n",
            "|     Per Knut Aaland|              31|     NA|1994 Invierno|Cross Country Ski...|\n",
            "|     Per Knut Aaland|              31|     NA|1994 Invierno|Cross Country Ski...|\n",
            "|     Per Knut Aaland|              31|     NA|1994 Invierno|Cross Country Ski...|\n",
            "|     Per Knut Aaland|              31|     NA|1994 Invierno|Cross Country Ski...|\n",
            "|     Per Knut Aaland|              31|     NA|1992 Invierno|Cross Country Ski...|\n",
            "|     Per Knut Aaland|              31|     NA|1992 Invierno|Cross Country Ski...|\n",
            "|     Per Knut Aaland|              31|     NA|1992 Invierno|Cross Country Ski...|\n",
            "|     Per Knut Aaland|              31|     NA|1992 Invierno|Cross Country Ski...|\n",
            "|        John Aalberg|              31|     NA|1994 Invierno|Cross Country Ski...|\n",
            "|        John Aalberg|              31|     NA|1994 Invierno|Cross Country Ski...|\n",
            "+--------------------+----------------+-------+-------------+--------------------+\n",
            "only showing top 20 rows\n",
            "\n"
          ]
        }
      ]
    },
    {
      "cell_type": "code",
      "source": [
        "paisesDF.printSchema()"
      ],
      "metadata": {
        "colab": {
          "base_uri": "https://localhost:8080/"
        },
        "id": "2K-Ngb0GCGAm",
        "outputId": "21de3419-657c-42a0-b181-e769c2bd1844"
      },
      "execution_count": 40,
      "outputs": [
        {
          "output_type": "stream",
          "name": "stdout",
          "text": [
            "root\n",
            " |-- paises_id: integer (nullable = true)\n",
            " |-- equipo: string (nullable = true)\n",
            " |-- sigla: string (nullable = true)\n",
            "\n"
          ]
        }
      ]
    },
    {
      "cell_type": "code",
      "source": [
        "resultadosDF.filter(resultadosDF.medalla != \"NA\").join(deportistaDF, deportistaDF.deportista_id == resultadosDF.deportista_id, \"left\")\\\n",
        "                                                       .join(paisesDF, paisesDF.paises_id == deportistaDF.equipo_id, \"left\")\\\n",
        "                                                       .select(\"medalla\", \"equipo\", \"sigla\").sort(col(\"sigla\").desc()).show()"
      ],
      "metadata": {
        "colab": {
          "base_uri": "https://localhost:8080/"
        },
        "id": "SKL8H6stAUJJ",
        "outputId": "0ad5952d-3263-4ce2-e8a3-1fdbdcdae681"
      },
      "execution_count": 41,
      "outputs": [
        {
          "output_type": "stream",
          "name": "stdout",
          "text": [
            "+-------+--------+-----+\n",
            "|medalla|  equipo|sigla|\n",
            "+-------+--------+-----+\n",
            "|   Gold|Zimbabwe|  ZIM|\n",
            "|   Gold|Zimbabwe|  ZIM|\n",
            "|   Gold|Zimbabwe|  ZIM|\n",
            "|   Gold|Zimbabwe|  ZIM|\n",
            "| Silver|Zimbabwe|  ZIM|\n",
            "|   Gold|Zimbabwe|  ZIM|\n",
            "|   Gold|Zimbabwe|  ZIM|\n",
            "|   Gold|Zimbabwe|  ZIM|\n",
            "| Bronze|Zimbabwe|  ZIM|\n",
            "|   Gold|Zimbabwe|  ZIM|\n",
            "| Silver|Zimbabwe|  ZIM|\n",
            "|   Gold|Zimbabwe|  ZIM|\n",
            "|   Gold|Zimbabwe|  ZIM|\n",
            "|   Gold|Zimbabwe|  ZIM|\n",
            "| Silver|Zimbabwe|  ZIM|\n",
            "|   Gold|Zimbabwe|  ZIM|\n",
            "| Silver|Zimbabwe|  ZIM|\n",
            "|   Gold|Zimbabwe|  ZIM|\n",
            "|   Gold|Zimbabwe|  ZIM|\n",
            "|   Gold|Zimbabwe|  ZIM|\n",
            "+-------+--------+-----+\n",
            "only showing top 20 rows\n",
            "\n"
          ]
        }
      ]
    },
    {
      "cell_type": "code",
      "source": [
        "deporteDF.printSchema()"
      ],
      "metadata": {
        "colab": {
          "base_uri": "https://localhost:8080/"
        },
        "id": "eiGozYJ7EnG6",
        "outputId": "2c24c1e5-f023-4db1-962e-e58362d5c18a"
      },
      "execution_count": 42,
      "outputs": [
        {
          "output_type": "stream",
          "name": "stdout",
          "text": [
            "root\n",
            " |-- deporte_id: integer (nullable = true)\n",
            " |-- deporte: string (nullable = true)\n",
            "\n"
          ]
        }
      ]
    },
    {
      "cell_type": "code",
      "source": [
        "medallistaXAnio = deportistaDF.join(resultadosDF, deportistaDF.deportista_id == resultadosDF.deportista_id, \"left\") \\\n",
        "    .join(juegoDF, juegoDF.juego_id == resultadosDF.juego_id, \"left\") \\\n",
        "    .join(paisesDF, deportistaDF.equipo_id == paisesDF.paises_id, \"left\") \\\n",
        "    .join(deporte_olimpicoDF, deporte_olimpicoDF.evento_id == resultadosDF.evento_id, \"left\") \\\n",
        "    .join(deporteDF, deporte_olimpicoDF.deporte_id == deporteDF.deporte_id, \"left\") \\\n",
        "    .select(\n",
        "        \"sigla\",\n",
        "        \"anio\",\n",
        "        \"medalla\",\n",
        "        deporte_olimpicoDF.nombre.alias(\"Nombre subdisciplina\"),\n",
        "        deporteDF.deporte.alias(\"Nombre disciplina\"),\n",
        "        deportistaDF.nombre    \n",
        "    )"
      ],
      "metadata": {
        "id": "W88eEu9JB8oe"
      },
      "execution_count": 43,
      "outputs": []
    },
    {
      "cell_type": "code",
      "source": [
        "medallistaXAnio.show()"
      ],
      "metadata": {
        "colab": {
          "base_uri": "https://localhost:8080/"
        },
        "id": "sKxSab5BFr9d",
        "outputId": "2a420c7b-2841-48d1-cbd9-77f0f007fae4"
      },
      "execution_count": 44,
      "outputs": [
        {
          "output_type": "stream",
          "name": "stdout",
          "text": [
            "+-----+-------------+-------+--------------------+--------------------+--------------------+\n",
            "|sigla|         anio|medalla|Nombre subdisciplina|   Nombre disciplina|              nombre|\n",
            "+-----+-------------+-------+--------------------+--------------------+--------------------+\n",
            "|  CHN|  1992 Verano|     NA|Basketball Men's ...|          Basketball|           A Dijiang|\n",
            "|  CHN|  2012 Verano|     NA|Judo Men's Extra-...|                Judo|            A Lamusi|\n",
            "|  DEN|  1920 Verano|     NA|Football Men's Fo...|            Football| Gunnar Nielsen Aaby|\n",
            "|  SWE|  1900 Verano|   Gold|Tug-Of-War Men's ...|          Tug-Of-War|Edgar Lindenau Aabye|\n",
            "|  NED|1994 Invierno|     NA|Speed Skating Wom...|       Speed Skating|Christine Jacoba ...|\n",
            "|  NED|1994 Invierno|     NA|Speed Skating Wom...|       Speed Skating|Christine Jacoba ...|\n",
            "|  NED|1992 Invierno|     NA|Speed Skating Wom...|       Speed Skating|Christine Jacoba ...|\n",
            "|  NED|1992 Invierno|     NA|Speed Skating Wom...|       Speed Skating|Christine Jacoba ...|\n",
            "|  NED|1988 Invierno|     NA|Speed Skating Wom...|       Speed Skating|Christine Jacoba ...|\n",
            "|  NED|1988 Invierno|     NA|Speed Skating Wom...|       Speed Skating|Christine Jacoba ...|\n",
            "|  USA|1994 Invierno|     NA|Cross Country Ski...|Cross Country Skiing|     Per Knut Aaland|\n",
            "|  USA|1994 Invierno|     NA|Cross Country Ski...|Cross Country Skiing|     Per Knut Aaland|\n",
            "|  USA|1994 Invierno|     NA|Cross Country Ski...|Cross Country Skiing|     Per Knut Aaland|\n",
            "|  USA|1994 Invierno|     NA|Cross Country Ski...|Cross Country Skiing|     Per Knut Aaland|\n",
            "|  USA|1992 Invierno|     NA|Cross Country Ski...|Cross Country Skiing|     Per Knut Aaland|\n",
            "|  USA|1992 Invierno|     NA|Cross Country Ski...|Cross Country Skiing|     Per Knut Aaland|\n",
            "|  USA|1992 Invierno|     NA|Cross Country Ski...|Cross Country Skiing|     Per Knut Aaland|\n",
            "|  USA|1992 Invierno|     NA|Cross Country Ski...|Cross Country Skiing|     Per Knut Aaland|\n",
            "|  USA|1994 Invierno|     NA|Cross Country Ski...|Cross Country Skiing|        John Aalberg|\n",
            "|  USA|1994 Invierno|     NA|Cross Country Ski...|Cross Country Skiing|        John Aalberg|\n",
            "+-----+-------------+-------+--------------------+--------------------+--------------------+\n",
            "only showing top 20 rows\n",
            "\n"
          ]
        }
      ]
    },
    {
      "cell_type": "code",
      "source": [
        "medallistaXAnio2 = medallistaXAnio.filter(medallistaXAnio.medalla !=\"NA\").sort(\"anio\")\\\n",
        "               .groupBy(\"sigla\", \"anio\", \"Nombre subdisciplina\").count()"
      ],
      "metadata": {
        "id": "46QT2kNBFtXS"
      },
      "execution_count": 45,
      "outputs": []
    },
    {
      "cell_type": "code",
      "source": [
        "medallistaXAnio2.show()"
      ],
      "metadata": {
        "colab": {
          "base_uri": "https://localhost:8080/"
        },
        "id": "QsARNl5EMZKV",
        "outputId": "189f8596-fec7-4e7c-fa0a-7f69d551e15e"
      },
      "execution_count": 46,
      "outputs": [
        {
          "output_type": "stream",
          "name": "stdout",
          "text": [
            "+-----+-------------+--------------------+-----+\n",
            "|sigla|         anio|Nombre subdisciplina|count|\n",
            "+-----+-------------+--------------------+-----+\n",
            "|  KOR|2006 Invierno|Short Track Speed...|    2|\n",
            "|  RUS|  2004 Verano|Wrestling Men's S...|    1|\n",
            "|  USA|  2004 Verano|Synchronized Swim...|    8|\n",
            "|  RUS|  2016 Verano|Shooting Women's ...|    1|\n",
            "|  RUS|  2008 Verano|Wrestling Men's L...|    1|\n",
            "|  SWE|  1936 Verano|Art Competitions ...|    1|\n",
            "|  EUN|2002 Invierno|Cross Country Ski...|    1|\n",
            "|  GBR|  1956 Verano|Sailing Mixed 5.5...|    4|\n",
            "|  USA|  1988 Verano|Volleyball Men's ...|   12|\n",
            "|  FRA|  1932 Verano|Cycling Men's Tea...|    4|\n",
            "|  USA|  1996 Verano|Equestrianism Mix...|    4|\n",
            "|  USA|  1996 Verano|Athletics Men's H...|    1|\n",
            "|  GBR|  2008 Verano|Boxing Men's Midd...|    1|\n",
            "|  FRA|  1984 Verano|Fencing Men's Sab...|    5|\n",
            "|  USA|  2012 Verano|Gymnastics Women'...|    1|\n",
            "|  FRA|  2004 Verano|Rowing Men's Ligh...|    2|\n",
            "|  NOR|1932 Invierno|Speed Skating Men...|    1|\n",
            "|  FRG|  1992 Verano| Hockey Men's Hockey|    5|\n",
            "|  SUI|  2000 Verano|Equestrianism Mix...|    4|\n",
            "|  CUB|  1976 Verano|Boxing Men's Ligh...|    1|\n",
            "+-----+-------------+--------------------+-----+\n",
            "only showing top 20 rows\n",
            "\n"
          ]
        }
      ]
    },
    {
      "cell_type": "code",
      "source": [
        "medallistaXAnio2.printSchema()"
      ],
      "metadata": {
        "colab": {
          "base_uri": "https://localhost:8080/"
        },
        "id": "7mg9yN-kMadH",
        "outputId": "422a71fd-f031-41fe-9236-6361456b0bbf"
      },
      "execution_count": 47,
      "outputs": [
        {
          "output_type": "stream",
          "name": "stdout",
          "text": [
            "root\n",
            " |-- sigla: string (nullable = true)\n",
            " |-- anio: string (nullable = true)\n",
            " |-- Nombre subdisciplina: string (nullable = true)\n",
            " |-- count: long (nullable = false)\n",
            "\n"
          ]
        }
      ]
    },
    {
      "cell_type": "code",
      "source": [
        "medallistaXAnio2.groupBy(\"sigla\", \"anio\").agg(sum(\"count\").alias(\"Total de medallas\"),\\\n",
        "                                              avg(\"count\").alias(\"Medallas promedio\")).show()"
      ],
      "metadata": {
        "colab": {
          "base_uri": "https://localhost:8080/"
        },
        "id": "OCWgocweMiex",
        "outputId": "6f551a6f-323a-4cdb-88e2-3bbf636e39ac"
      },
      "execution_count": 48,
      "outputs": [
        {
          "output_type": "stream",
          "name": "stdout",
          "text": [
            "+-----+-------------+-----------------+------------------+\n",
            "|sigla|         anio|Total de medallas| Medallas promedio|\n",
            "+-----+-------------+-----------------+------------------+\n",
            "|  SWE|  1976 Verano|               10|               2.0|\n",
            "|  MGL|  2008 Verano|                5|              1.25|\n",
            "|  SUI|2014 Invierno|               29|3.2222222222222223|\n",
            "|  ETH|  2004 Verano|                7|              1.75|\n",
            "|  BEL|  2000 Verano|                7|               1.4|\n",
            "|  AUT|  1928 Verano|                5|              1.25|\n",
            "|  SYR|  1984 Verano|                1|               1.0|\n",
            "|  NED|1992 Invierno|                4|1.3333333333333333|\n",
            "|  MAS|  2012 Verano|                2|               1.0|\n",
            "|  ITA|  1996 Verano|               69| 2.225806451612903|\n",
            "|  THA|  2008 Verano|                4|               1.0|\n",
            "|  URS|1984 Invierno|               56|               2.8|\n",
            "|  DEN|  1896 Verano|                6|               1.0|\n",
            "|  GRN|  2016 Verano|                1|               1.0|\n",
            "|  DEN|  1956 Verano|                6|               1.5|\n",
            "|  ARG|  2004 Verano|               49| 8.166666666666666|\n",
            "|  CHI|  1988 Verano|                1|               1.0|\n",
            "|  ITA|  1972 Verano|               25|            1.5625|\n",
            "|  GER|  1912 Verano|               53|2.5238095238095237|\n",
            "|  DEN|  1932 Verano|               11|             1.375|\n",
            "+-----+-------------+-----------------+------------------+\n",
            "only showing top 20 rows\n",
            "\n"
          ]
        }
      ]
    },
    {
      "cell_type": "code",
      "source": [
        "resultadosDF.registerTempTable(\"resultado\")\n",
        "deportistaDF.registerTempTable(\"deportista\")\n",
        "paisesDF.registerTempTable(\"paises\")"
      ],
      "metadata": {
        "colab": {
          "base_uri": "https://localhost:8080/"
        },
        "id": "sRNVeZz3OpAm",
        "outputId": "477c3a52-c0d2-469d-fcf8-0e9102b00155"
      },
      "execution_count": 49,
      "outputs": [
        {
          "output_type": "stream",
          "name": "stderr",
          "text": [
            "/usr/local/lib/python3.7/dist-packages/pyspark/sql/dataframe.py:229: FutureWarning: Deprecated in 2.0, use createOrReplaceTempView instead.\n",
            "  warnings.warn(\"Deprecated in 2.0, use createOrReplaceTempView instead.\", FutureWarning)\n"
          ]
        }
      ]
    },
    {
      "cell_type": "code",
      "source": [
        "sqlContext.sql(\"SELECT * FROM deportista\").show(5)"
      ],
      "metadata": {
        "colab": {
          "base_uri": "https://localhost:8080/"
        },
        "id": "SatYDyfrPS1r",
        "outputId": "d93c3ae6-8485-479c-a64b-a70eb57ad2e2"
      },
      "execution_count": 50,
      "outputs": [
        {
          "output_type": "stream",
          "name": "stdout",
          "text": [
            "+-------------+--------------------+-----------+---------+\n",
            "|deportista_id|              nombre|edadAlJugar|equipo_id|\n",
            "+-------------+--------------------+-----------+---------+\n",
            "|            1|           A Dijiang|         24|      199|\n",
            "|            2|            A Lamusi|         23|      199|\n",
            "|            3| Gunnar Nielsen Aaby|         24|      273|\n",
            "|            4|Edgar Lindenau Aabye|         34|      278|\n",
            "|            5|Christine Jacoba ...|         21|      705|\n",
            "+-------------+--------------------+-----------+---------+\n",
            "only showing top 5 rows\n",
            "\n"
          ]
        }
      ]
    },
    {
      "cell_type": "code",
      "source": [
        "sqlContext.sql(\"\"\" \n",
        "                SELECT medalla, equipo, sigla FROM resultado r\n",
        "                JOIN deportista d\n",
        "                ON r.deportista_id = d.deportista_id\n",
        "                JOIN paises p\n",
        "                ON p.paises_id = d.equipo_id\n",
        "                WHERE medalla <> \"NA\"\n",
        "                ORDER BY sigla DESC\n",
        "                \"\"\").show()"
      ],
      "metadata": {
        "colab": {
          "base_uri": "https://localhost:8080/"
        },
        "id": "Z5J2NtRnPc-Z",
        "outputId": "2ebd0231-d7c8-4ff9-f978-f9ec86a7fb08"
      },
      "execution_count": 51,
      "outputs": [
        {
          "output_type": "stream",
          "name": "stdout",
          "text": [
            "+-------+--------+-----+\n",
            "|medalla|  equipo|sigla|\n",
            "+-------+--------+-----+\n",
            "|   Gold|Zimbabwe|  ZIM|\n",
            "|   Gold|Zimbabwe|  ZIM|\n",
            "| Silver|Zimbabwe|  ZIM|\n",
            "|   Gold|Zimbabwe|  ZIM|\n",
            "|   Gold|Zimbabwe|  ZIM|\n",
            "| Silver|Zimbabwe|  ZIM|\n",
            "| Bronze|Zimbabwe|  ZIM|\n",
            "|   Gold|Zimbabwe|  ZIM|\n",
            "|   Gold|Zimbabwe|  ZIM|\n",
            "|   Gold|Zimbabwe|  ZIM|\n",
            "|   Gold|Zimbabwe|  ZIM|\n",
            "|   Gold|Zimbabwe|  ZIM|\n",
            "|   Gold|Zimbabwe|  ZIM|\n",
            "|   Gold|Zimbabwe|  ZIM|\n",
            "|   Gold|Zimbabwe|  ZIM|\n",
            "|   Gold|Zimbabwe|  ZIM|\n",
            "| Silver|Zimbabwe|  ZIM|\n",
            "| Silver|Zimbabwe|  ZIM|\n",
            "|   Gold|Zimbabwe|  ZIM|\n",
            "|   Gold|Zimbabwe|  ZIM|\n",
            "+-------+--------+-----+\n",
            "only showing top 20 rows\n",
            "\n"
          ]
        }
      ]
    },
    {
      "cell_type": "markdown",
      "source": [
        "#UDF"
      ],
      "metadata": {
        "id": "Lg2zWsN0SUCK"
      }
    },
    {
      "cell_type": "code",
      "source": [
        "deportista_error = spark.textFile(path + \"deportistaError.csv\").map(lambda l: l.split(\",\"))"
      ],
      "metadata": {
        "id": "IReuutrTSdL5"
      },
      "execution_count": 52,
      "outputs": []
    },
    {
      "cell_type": "code",
      "source": [
        "deportista_error = deportista_error.mapPartitionsWithIndex(removeHeader)"
      ],
      "metadata": {
        "id": "B93oHfLvSyOK"
      },
      "execution_count": 53,
      "outputs": []
    },
    {
      "cell_type": "code",
      "source": [
        "deportista_error.take(3)"
      ],
      "metadata": {
        "colab": {
          "base_uri": "https://localhost:8080/"
        },
        "id": "H1jrjZCdXf8O",
        "outputId": "16f831bb-07e3-4e05-ac1d-fdab8b10a230"
      },
      "execution_count": 54,
      "outputs": [
        {
          "output_type": "execute_result",
          "data": {
            "text/plain": [
              "[['1', 'A Dijiang', '1', '24', '180', '80', '199'],\n",
              " ['2', 'A Lamusi', '1', '23', '170', '60', '199'],\n",
              " ['3', 'Gunnar Nielsen Aaby', '1', '24', '', '', '273']]"
            ]
          },
          "metadata": {},
          "execution_count": 54
        }
      ]
    },
    {
      "cell_type": "code",
      "source": [
        "deportista_error = deportista_error.map(lambda l:(\n",
        "                     l[0],\n",
        "                     l[1],\n",
        "                     l[2],\n",
        "                     l[3],\n",
        "                     l[4],\n",
        "                     l[5],\n",
        "                     l[6]))"
      ],
      "metadata": {
        "id": "F-CvL3BgXiav"
      },
      "execution_count": 55,
      "outputs": []
    },
    {
      "cell_type": "code",
      "source": [
        "schema = StructType([\n",
        "    StructField(\"deportista_id\", StringType(), False),\n",
        "    StructField(\"nombre\", StringType(), False),\n",
        "    StructField(\"genero\", StringType(), False),\n",
        "    StructField(\"edad\", StringType(), False),\n",
        "    StructField(\"altura\", StringType(), False),\n",
        "    StructField(\"peso\", StringType(), False),\n",
        "    StructField(\"equipo_id\", StringType(), False)\n",
        "])\n",
        "\n",
        "deportistaErrorDF = sqlContext.createDataFrame(deportista_error, schema)"
      ],
      "metadata": {
        "id": "tU3B3xVYYG5y"
      },
      "execution_count": 56,
      "outputs": []
    },
    {
      "cell_type": "code",
      "source": [
        "deportistaErrorDF.show()"
      ],
      "metadata": {
        "colab": {
          "base_uri": "https://localhost:8080/"
        },
        "id": "aFTGiuOzZOs-",
        "outputId": "dcaff0fc-a762-4151-a702-ab56b685c43e"
      },
      "execution_count": 57,
      "outputs": [
        {
          "output_type": "stream",
          "name": "stdout",
          "text": [
            "+-------------+--------------------+------+----+------+----+---------+\n",
            "|deportista_id|              nombre|genero|edad|altura|peso|equipo_id|\n",
            "+-------------+--------------------+------+----+------+----+---------+\n",
            "|            1|           A Dijiang|     1|  24|   180|  80|      199|\n",
            "|            2|            A Lamusi|     1|  23|   170|  60|      199|\n",
            "|            3| Gunnar Nielsen Aaby|     1|  24|      |    |      273|\n",
            "|            4|Edgar Lindenau Aabye|     1|  34|      |    |      278|\n",
            "|            5|Christine Jacoba ...|     2|  21|   185|  82|      705|\n",
            "|            6|     Per Knut Aaland|     1|  31|   188|  75|     1096|\n",
            "|            7|        John Aalberg|     1|  31|   183|  72|     1096|\n",
            "|            8|\"Cornelia \"\"Cor\"\"...|     2|  18|   168|    |      705|\n",
            "|            9|    Antti Sami Aalto|     1|  26|   186|  96|      350|\n",
            "|           10|\"Einar Ferdinand ...|     1|  26|      |    |      350|\n",
            "|           11|  Jorma Ilmari Aalto|     1|  22|   182|76.5|      350|\n",
            "|           12|   Jyri Tapani Aalto|     1|  31|   172|  70|      350|\n",
            "|           13|  Minna Maarit Aalto|     2|  30|   159|55.5|      350|\n",
            "|           14|Pirjo Hannele Aal...|     2|  32|   171|  65|      350|\n",
            "|           15|Arvo Ossian Aaltonen|     1|  22|      |    |      350|\n",
            "|           16|Juhamatti Tapio A...|     1|  28|   184|  85|      350|\n",
            "|           17|Paavo Johannes Aa...|     1|  28|   175|  64|      350|\n",
            "|           18|Timo Antero Aaltonen|     1|  31|   189| 130|      350|\n",
            "|           19|Win Valdemar Aalt...|     1|  54|      |    |      350|\n",
            "|           20|  Kjetil Andr Aamodt|     1|  20|   176|  85|      742|\n",
            "+-------------+--------------------+------+----+------+----+---------+\n",
            "only showing top 20 rows\n",
            "\n"
          ]
        }
      ]
    },
    {
      "cell_type": "code",
      "source": [
        "from pyspark.sql.functions import udf\n",
        "\n",
        "def conversionEnteros(valor):\n",
        "  return int(valor) if len(valor) > 0 else None\n",
        "\n",
        "conversion_enteros_udf = udf(lambda z: conversionEnteros(z), IntegerType())\n",
        "sqlContext.udf.register(\"conversion_enteros_udf\", conversion_enteros_udf)"
      ],
      "metadata": {
        "colab": {
          "base_uri": "https://localhost:8080/"
        },
        "id": "2Ox06ByiZTUW",
        "outputId": "70b5201c-8e2e-403d-a299-7b15ac049b2f"
      },
      "execution_count": 58,
      "outputs": [
        {
          "output_type": "execute_result",
          "data": {
            "text/plain": [
              "<function __main__.<lambda>(z)>"
            ]
          },
          "metadata": {},
          "execution_count": 58
        }
      ]
    },
    {
      "cell_type": "code",
      "source": [
        "deportistaErrorDF.select(conversion_enteros_udf(\"altura\").alias(\"alturaDF\")).show()"
      ],
      "metadata": {
        "colab": {
          "base_uri": "https://localhost:8080/"
        },
        "id": "CQ1FZInZbHLG",
        "outputId": "459b49d0-f7f4-461d-b765-d4fe409fd77b"
      },
      "execution_count": 59,
      "outputs": [
        {
          "output_type": "stream",
          "name": "stdout",
          "text": [
            "+--------+\n",
            "|alturaDF|\n",
            "+--------+\n",
            "|     180|\n",
            "|     170|\n",
            "|    null|\n",
            "|    null|\n",
            "|     185|\n",
            "|     188|\n",
            "|     183|\n",
            "|     168|\n",
            "|     186|\n",
            "|    null|\n",
            "|     182|\n",
            "|     172|\n",
            "|     159|\n",
            "|     171|\n",
            "|    null|\n",
            "|     184|\n",
            "|     175|\n",
            "|     189|\n",
            "|    null|\n",
            "|     176|\n",
            "+--------+\n",
            "only showing top 20 rows\n",
            "\n"
          ]
        }
      ]
    },
    {
      "cell_type": "markdown",
      "source": [
        "# Persistence and Partitioning"
      ],
      "metadata": {
        "id": "3nSeKrxOnJsI"
      }
    },
    {
      "cell_type": "code",
      "source": [
        "from pyspark.storagelevel import StorageLevel"
      ],
      "metadata": {
        "id": "0-ImZ2QgbrG0"
      },
      "execution_count": 60,
      "outputs": []
    },
    {
      "cell_type": "code",
      "source": [
        "medallistaXAnio.is_cached"
      ],
      "metadata": {
        "colab": {
          "base_uri": "https://localhost:8080/"
        },
        "id": "EcsHOAgcl1YW",
        "outputId": "2cb66880-645b-49dc-89cc-93970c8f9f66"
      },
      "execution_count": 62,
      "outputs": [
        {
          "output_type": "execute_result",
          "data": {
            "text/plain": [
              "False"
            ]
          },
          "metadata": {},
          "execution_count": 62
        }
      ]
    },
    {
      "cell_type": "code",
      "source": [
        "medallistaXAnio.rdd.cache()"
      ],
      "metadata": {
        "colab": {
          "base_uri": "https://localhost:8080/"
        },
        "id": "0iZzL4x5l9SY",
        "outputId": "6a6872fa-6623-4d3f-b517-e5c8178e6b50"
      },
      "execution_count": 64,
      "outputs": [
        {
          "output_type": "execute_result",
          "data": {
            "text/plain": [
              "MapPartitionsRDD[198] at javaToPython at NativeMethodAccessorImpl.java:0"
            ]
          },
          "metadata": {},
          "execution_count": 64
        }
      ]
    },
    {
      "cell_type": "code",
      "source": [
        "medallistaXAnio.rdd.getStorageLevel()"
      ],
      "metadata": {
        "colab": {
          "base_uri": "https://localhost:8080/"
        },
        "id": "r6hEBEubmGrf",
        "outputId": "39b02e89-8b09-47e7-cf1d-0588b8e4ee00"
      },
      "execution_count": 65,
      "outputs": [
        {
          "output_type": "execute_result",
          "data": {
            "text/plain": [
              "StorageLevel(False, True, False, False, 1)"
            ]
          },
          "metadata": {},
          "execution_count": 65
        }
      ]
    },
    {
      "cell_type": "code",
      "source": [
        "medallistaXAnio.rdd.unpersist()"
      ],
      "metadata": {
        "colab": {
          "base_uri": "https://localhost:8080/"
        },
        "id": "BRvq1E0hm1RS",
        "outputId": "0915ae20-68e8-425a-9307-72881b0f4297"
      },
      "execution_count": 66,
      "outputs": [
        {
          "output_type": "execute_result",
          "data": {
            "text/plain": [
              "MapPartitionsRDD[198] at javaToPython at NativeMethodAccessorImpl.java:0"
            ]
          },
          "metadata": {},
          "execution_count": 66
        }
      ]
    },
    {
      "cell_type": "code",
      "source": [
        "medallistaXAnio.rdd.persist(StorageLevel.MEMORY_AND_DISK_2)"
      ],
      "metadata": {
        "colab": {
          "base_uri": "https://localhost:8080/"
        },
        "id": "9PzvMNavmQWA",
        "outputId": "d2814390-ffd7-4ca1-ae20-88b618eb8b26"
      },
      "execution_count": 67,
      "outputs": [
        {
          "output_type": "execute_result",
          "data": {
            "text/plain": [
              "MapPartitionsRDD[198] at javaToPython at NativeMethodAccessorImpl.java:0"
            ]
          },
          "metadata": {},
          "execution_count": 67
        }
      ]
    },
    {
      "cell_type": "code",
      "source": [
        "StorageLevel.MEMORY_AND_DISK_3 = StorageLevel(True, True, False, False, 3)"
      ],
      "metadata": {
        "id": "I6P9rD6fnRCo"
      },
      "execution_count": 68,
      "outputs": []
    },
    {
      "cell_type": "code",
      "source": [
        "medallistaXAnio.rdd.unpersist()"
      ],
      "metadata": {
        "colab": {
          "base_uri": "https://localhost:8080/"
        },
        "id": "32LwA2vcn1N9",
        "outputId": "f5a88e76-df29-43a4-faa8-92d2afcdca0e"
      },
      "execution_count": 69,
      "outputs": [
        {
          "output_type": "execute_result",
          "data": {
            "text/plain": [
              "MapPartitionsRDD[198] at javaToPython at NativeMethodAccessorImpl.java:0"
            ]
          },
          "metadata": {},
          "execution_count": 69
        }
      ]
    },
    {
      "cell_type": "code",
      "source": [
        "medallistaXAnio.rdd.persist(StorageLevel.MEMORY_AND_DISK_3)"
      ],
      "metadata": {
        "colab": {
          "base_uri": "https://localhost:8080/"
        },
        "id": "5yIpJCRyn5Zn",
        "outputId": "65083e11-c03a-47c5-8130-1b5e81cb0360"
      },
      "execution_count": 70,
      "outputs": [
        {
          "output_type": "execute_result",
          "data": {
            "text/plain": [
              "MapPartitionsRDD[198] at javaToPython at NativeMethodAccessorImpl.java:0"
            ]
          },
          "metadata": {},
          "execution_count": 70
        }
      ]
    }
  ]
}